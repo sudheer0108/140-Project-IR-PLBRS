{
 "cells": [
  {
   "cell_type": "code",
   "execution_count": 15,
   "metadata": {
    "colab": {
     "base_uri": "https://localhost:8080/"
    },
    "id": "8qZ-TMc9SVHl",
    "outputId": "38b47fed-0c4c-41d2-d196-287776884a9c"
   },
   "outputs": [
    {
     "name": "stdout",
     "output_type": "stream",
     "text": [
      "[nltk_data] Downloading package stopwords to /root/nltk_data...\n",
      "[nltk_data]   Unzipping corpora/stopwords.zip.\n"
     ]
    }
   ],
   "source": [
    "import numpy as np\n",
    "import pandas as pd\n",
    "import nltk\n",
    "from nltk.stem import WordNetLemmatizer\n",
    "from nltk.corpus import wordnet\n",
    "from nltk.corpus import stopwords\n",
    "from nltk.tokenize import RegexpTokenizer\n",
    "import re\n",
    "nltk.download('stopwords')\n",
    "  \n",
    "import wordninja\n",
    "from preprocessing import Preprocess as preprocessing"
   ]
  },
  {
   "cell_type": "code",
   "execution_count": 5,
   "metadata": {
    "id": "0PvIwQ6ySVHv"
   },
   "outputs": [],
   "source": [
    "data = pd.read_csv(\"entertainment1.csv\")\n",
    "data = np.array(data)\n",
    "np.save(\"output\",data)\n",
    "data = np.load(\"output.npy\",allow_pickle = True) "
   ]
  },
  {
   "cell_type": "code",
   "execution_count": 6,
   "metadata": {
    "id": "y6aQ7ZcPCH4d",
    "scrolled": true
   },
   "outputs": [],
   "source": [
    "get_docID = {}\n",
    "get_index = {}\n",
    "\n",
    "NN = len(data)\n",
    "for i in range(0, len(data)) :\n",
    "    get_docID[i] = data[i][0]\n",
    "    get_index[data[i][0]] = i"
   ]
  },
  {
   "cell_type": "code",
   "execution_count": 7,
   "metadata": {
    "colab": {
     "base_uri": "https://localhost:8080/"
    },
    "id": "JokFmLV8hRaX",
    "outputId": "3d1ead8c-17af-47e2-96f2-04415a5ff543"
   },
   "outputs": [
    {
     "name": "stdout",
     "output_type": "stream",
     "text": [
      "49975\n"
     ]
    }
   ],
   "source": [
    "subset = []\n",
    "counter = 0\n",
    "for document in data:\n",
    "    subset.append(document)\n",
    "    counter += 1\n",
    "    if counter == NN:\n",
    "        break\n",
    "print(len(subset))"
   ]
  },
  {
   "cell_type": "code",
   "execution_count": 16,
   "metadata": {
    "colab": {
     "base_uri": "https://localhost:8080/"
    },
    "id": "eRqA8lwehRaX",
    "outputId": "8a8ddbd9-b0e0-4b38-d392-c39a1d0afb57"
   },
   "outputs": [
    {
     "name": "stderr",
     "output_type": "stream",
     "text": [
      "100%|██████████| 49975/49975 [04:14<00:00, 196.45it/s]"
     ]
    },
    {
     "name": "stdout",
     "output_type": "stream",
     "text": [
      "254.38862085342407\n"
     ]
    },
    {
     "name": "stderr",
     "output_type": "stream",
     "text": [
      "\n"
     ]
    }
   ],
   "source": [
    "import time\n",
    "from tqdm import tqdm\n",
    "\n",
    "start = time.time()\n",
    "\n",
    "titles = []\n",
    "contents = []\n",
    "for document in tqdm(subset):\n",
    "    # actually modifying the document\n",
    "    document[4] = preprocessing.remove_htmlcodes(document[4])\n",
    "    \n",
    "    # not actually modifying the document\n",
    "    modifiedContent = preprocessing.replace_dates(document[4])\n",
    "    modifiedContent = preprocessing.lemma_stop(preprocessing.clean_document(modifiedContent))\n",
    "    modifiedTitle = preprocessing.lemma_stop(preprocessing.clean_document(document[2]))\n",
    "    \n",
    "    # case-folding\n",
    "    for i in range(len(modifiedContent)):\n",
    "        modifiedContent[i] = modifiedContent[i].lower()\n",
    "    \n",
    "    # modifiedTitle = lemma_stop((document[1]))\n",
    "    titles.append(modifiedTitle)\n",
    "    contents.append(modifiedContent)\n",
    "    \n",
    "print(time.time() - start)  # 110.26236414909363"
   ]
  },
  {
   "cell_type": "code",
   "execution_count": null,
   "metadata": {
    "id": "vSWPALO7jzOb"
   },
   "outputs": [],
   "source": []
  },
  {
   "cell_type": "code",
   "execution_count": 18,
   "metadata": {
    "colab": {
     "base_uri": "https://localhost:8080/"
    },
    "id": "5l8HSfuohRaX",
    "outputId": "b175e093-1fd9-469f-8549-5e3534da521a"
   },
   "outputs": [
    {
     "name": "stdout",
     "output_type": "stream",
     "text": [
      "Collecting unidecode\n",
      "\u001b[?25l  Downloading https://files.pythonhosted.org/packages/d0/42/d9edfed04228bacea2d824904cae367ee9efd05e6cce7ceaaedd0b0ad964/Unidecode-1.1.1-py2.py3-none-any.whl (238kB)\n",
      "\r",
      "\u001b[K     |█▍                              | 10kB 22.8MB/s eta 0:00:01\r",
      "\u001b[K     |██▊                             | 20kB 15.7MB/s eta 0:00:01\r",
      "\u001b[K     |████▏                           | 30kB 10.1MB/s eta 0:00:01\r",
      "\u001b[K     |█████▌                          | 40kB 8.4MB/s eta 0:00:01\r",
      "\u001b[K     |██████▉                         | 51kB 4.3MB/s eta 0:00:01\r",
      "\u001b[K     |████████▎                       | 61kB 4.5MB/s eta 0:00:01\r",
      "\u001b[K     |█████████▋                      | 71kB 4.9MB/s eta 0:00:01\r",
      "\u001b[K     |███████████                     | 81kB 5.1MB/s eta 0:00:01\r",
      "\u001b[K     |████████████▍                   | 92kB 5.4MB/s eta 0:00:01\r",
      "\u001b[K     |█████████████▊                  | 102kB 5.7MB/s eta 0:00:01\r",
      "\u001b[K     |███████████████▏                | 112kB 5.7MB/s eta 0:00:01\r",
      "\u001b[K     |████████████████▌               | 122kB 5.7MB/s eta 0:00:01\r",
      "\u001b[K     |█████████████████▉              | 133kB 5.7MB/s eta 0:00:01\r",
      "\u001b[K     |███████████████████▎            | 143kB 5.7MB/s eta 0:00:01\r",
      "\u001b[K     |████████████████████▋           | 153kB 5.7MB/s eta 0:00:01\r",
      "\u001b[K     |██████████████████████          | 163kB 5.7MB/s eta 0:00:01\r",
      "\u001b[K     |███████████████████████▍        | 174kB 5.7MB/s eta 0:00:01\r",
      "\u001b[K     |████████████████████████▊       | 184kB 5.7MB/s eta 0:00:01\r",
      "\u001b[K     |██████████████████████████▏     | 194kB 5.7MB/s eta 0:00:01\r",
      "\u001b[K     |███████████████████████████▌    | 204kB 5.7MB/s eta 0:00:01\r",
      "\u001b[K     |████████████████████████████▉   | 215kB 5.7MB/s eta 0:00:01\r",
      "\u001b[K     |██████████████████████████████▎ | 225kB 5.7MB/s eta 0:00:01\r",
      "\u001b[K     |███████████████████████████████▋| 235kB 5.7MB/s eta 0:00:01\r",
      "\u001b[K     |████████████████████████████████| 245kB 5.7MB/s \n",
      "\u001b[?25hInstalling collected packages: unidecode\n",
      "Successfully installed unidecode-1.1.1\n"
     ]
    }
   ],
   "source": [
    "!pip install unidecode\n",
    "import unidecode\n",
    "contents_temp = contents\n",
    "\n",
    "titles_temp = titles\n",
    "\n",
    "for i in range(NN):\n",
    "    for j in range(len(contents[i])):\n",
    "        contents[i][j] = unidecode.unidecode(contents[i][j])\n",
    "    for j in range(len(titles[i])):\n",
    "        titles[i][j] = unidecode.unidecode(titles[i][j])\n",
    "# for document in contents_temp:\n",
    "#     for word in document:\n",
    "#         word = unidecode.unidecode(word)\n",
    "# for title in titles_temp:\n",
    "#     for word in title:\n",
    "#         word = unidecode.unidecode(word)"
   ]
  },
  {
   "cell_type": "code",
   "execution_count": 19,
   "metadata": {
    "id": "fr-HGZhDrJfT"
   },
   "outputs": [],
   "source": [
    "import trie\n",
    "import pickle \n",
    "getReference = {}"
   ]
  },
  {
   "cell_type": "code",
   "execution_count": 20,
   "metadata": {
    "id": "9M63H5wohRaX"
   },
   "outputs": [],
   "source": [
    "documentRoot = []\n",
    "collection = trie.CollectionNode()\n",
    "\n",
    "for i in range(NN):\n",
    "    newDocument = trie.Node()\n",
    "    documentRoot.append(newDocument)\n",
    "    getReference[get_docID[i]] = newDocument"
   ]
  },
  {
   "cell_type": "code",
   "execution_count": 21,
   "metadata": {
    "colab": {
     "base_uri": "https://localhost:8080/"
    },
    "id": "K9cGiLfuhRaY",
    "outputId": "8df931dd-435d-48b9-f98b-6ff5e84178d6"
   },
   "outputs": [
    {
     "name": "stderr",
     "output_type": "stream",
     "text": [
      "100%|██████████| 49975/49975 [00:29<00:00, 1722.51it/s]"
     ]
    },
    {
     "name": "stdout",
     "output_type": "stream",
     "text": [
      "29.01443600654602\n"
     ]
    },
    {
     "name": "stderr",
     "output_type": "stream",
     "text": [
      "\n"
     ]
    }
   ],
   "source": [
    "max_tf = {}\n",
    "\n",
    "import time\n",
    "from tqdm import tqdm\n",
    "\n",
    "start = time.time()\n",
    "for i in tqdm(range(NN)):\n",
    "    for w in contents_temp[i]:\n",
    "        collection.add_document(w, 0, get_docID[i])\n",
    "        documentRoot[i].add(w, 0)\n",
    "        if get_docID[i] in max_tf:\n",
    "            max_tf[get_docID[i]] = max(documentRoot[i].count_words(w, 0), max_tf[get_docID[i]])\n",
    "        else:\n",
    "            max_tf[get_docID[i]] = documentRoot[i].count_words(w, 0)\n",
    "    for w in titles_temp[i]:\n",
    "        collection.add_title(w, 0, get_docID[i])\n",
    "        \n",
    "print(time.time() - start) "
   ]
  },
  {
   "cell_type": "code",
   "execution_count": 22,
   "metadata": {
    "colab": {
     "base_uri": "https://localhost:8080/"
    },
    "id": "eB9AxokfhRaY",
    "outputId": "ff9f6c12-196b-45d4-e056-1f887638743e"
   },
   "outputs": [
    {
     "name": "stderr",
     "output_type": "stream",
     "text": [
      "  0%|          | 25/49975 [00:00<03:25, 243.62it/s]"
     ]
    },
    {
     "name": "stdout",
     "output_type": "stream",
     "text": [
      "hello\n",
      "49975\n"
     ]
    },
    {
     "name": "stderr",
     "output_type": "stream",
     "text": [
      "100%|██████████| 49975/49975 [03:16<00:00, 254.92it/s]\n"
     ]
    }
   ],
   "source": [
    "import math\n",
    "import queue\n",
    "\n",
    "documentLength = {}\n",
    "N = len(documentRoot)\n",
    "print(\"hello\")\n",
    "print(N)\n",
    "\n",
    "for i in tqdm(range(len(documentRoot))):\n",
    "    \n",
    "    docID = get_docID[i]\n",
    "    length = 0\n",
    "    document = documentRoot[i]\n",
    "    q = queue.Queue()\n",
    "    q.put([document, ''])\n",
    "    \n",
    "    while q.qsize() > 0:\n",
    "\n",
    "        current = q.get()\n",
    "        reference = current[0]\n",
    "        word = current[1]\n",
    "\n",
    "        if reference.words > 0:\n",
    "            df = len(collection.get_doc_list(word, 0))\n",
    "            idf = math.log10(N/df)\n",
    "            # print(word, reference.words, df)\n",
    "            length += (reference.words * idf) ** 2\n",
    "\n",
    "        for i in range(256):\n",
    "            if reference.children.get(i) is not None:\n",
    "                new_word = word + chr(i)\n",
    "                q.put([reference.children[i], new_word])\n",
    "\n",
    "    # print(length**0.5)\n",
    "    documentLength[docID] = length**0.5\n",
    "    \n",
    "    \n",
    "    \n",
    "pickle_out = open(\"collection.pickle\",\"wb\")\n",
    "pickle.dump(collection,pickle_out)\n",
    "pickle_out.close()\n",
    "pickle_out1 = open(\"documentRoot.pickle\",\"wb\")\n",
    "pickle.dump(getReference,pickle_out1)\n",
    "pickle_out1.close()\n",
    "pickle_out2 = open(\"max_tf.pickle\",\"wb\")\n",
    "pickle.dump(max_tf,pickle_out2)\n",
    "pickle_out2.close()\n",
    "\n"
   ]
  },
  {
   "cell_type": "code",
   "execution_count": 23,
   "metadata": {
    "colab": {
     "base_uri": "https://localhost:8080/"
    },
    "id": "auUhJ1AyhRaY",
    "outputId": "042403af-ab3c-456d-ac1a-0f91eefa42fe"
   },
   "outputs": [
    {
     "name": "stdout",
     "output_type": "stream",
     "text": [
      "406496\n"
     ]
    }
   ],
   "source": [
    "import sys\n",
    "print(sys.getsizeof(documentRoot))"
   ]
  },
  {
   "cell_type": "code",
   "execution_count": 24,
   "metadata": {
    "colab": {
     "base_uri": "https://localhost:8080/"
    },
    "id": "Go9w6bB9rJfg",
    "outputId": "31d59788-eafd-496d-81d3-2a65b7642438"
   },
   "outputs": [
    {
     "name": "stdout",
     "output_type": "stream",
     "text": [
      "mahesh\n",
      "['mahesh']\n",
      "1\n"
     ]
    }
   ],
   "source": [
    "query = input()\n",
    "final_query = preprocessing.replace_dates(query)\n",
    "final_query = preprocessing.lemma_stop(final_query)\n",
    "for i in range(len(final_query)):\n",
    "    final_query[i] = unidecode.unidecode(final_query[i])\n",
    "    \n",
    "    # case-folding\n",
    "    final_query[i] = final_query[i].lower()\n",
    "print(final_query)\n",
    "print(len(final_query))"
   ]
  },
  {
   "cell_type": "code",
   "execution_count": 25,
   "metadata": {
    "id": "j4Kqgk9hrJfj"
   },
   "outputs": [],
   "source": [
    "tf_query = {}\n",
    "for w in final_query:\n",
    "    if w not in tf_query:\n",
    "        tf_query[w] = 1\n",
    "    else:\n",
    "        tf_query[w] += 1\n",
    "        \n"
   ]
  },
  {
   "cell_type": "code",
   "execution_count": 26,
   "metadata": {
    "colab": {
     "base_uri": "https://localhost:8080/"
    },
    "id": "lfT-kdUqrJfp",
    "outputId": "3c839045-f4c5-4ee0-bffc-72662c546fe3"
   },
   "outputs": [
    {
     "name": "stdout",
     "output_type": "stream",
     "text": [
      "{'1607875934-38820', '1607866862-6864', '1607869446-15747', '1607877472-43249', '1607874509-34301', '1607878817-47253', '1607875337-37077', '1607869487-15883', '1607869499-15946', '1607869160-14657', '1607877343-42851', '1607867151-7983', '1607871338-23096', '1607874678-34893', '1607868088-11297', '1607869432-15695', '1607867349-8658', '1607876559-40648', '1607871365-23218', '1607868880-13765', '1607871482-23614', '1607871338-23087', '1607866760-6452', '1607871075-21864', '1607877239-42541', '1607874731-35075', '1607869277-15082', '1607878359-45818', '1607871365-23222', '1607865678-2289', '1607869446-15739', '1607867628-9634', '1607868951-14022', '1607878817-47251', '1607875556-37698', '1607870779-20734', '1607875531-37609', '1607873942-32331', '1607869493-15913', '1607873884-32136', '1607877604-43586', '1607869604-16320', '1607872654-27600', '1607874187-33212', '1607874696-34937', '1607873458-30585', '1607876551-40624', '1607867721-9970', '1607869527-16037', '1607869499-15945', '1607879555-49680', '1607868939-13967', '1607874717-35007', '1607869940-17576', '1607874874-35506', '1607866110-3978', '1607874179-33187', '1607874276-33502', '1607872751-27903', '1607867138-7930', '1607868181-11625', '1607871177-22260', '1607874790-35236', '1607878758-47077', '1607866669-6118', '1607865472-1247', '1607878809-47240', '1607866815-6651', '1607879021-47846', '1607868979-14115', '1607874545-34444', '1607876140-39393', '1607872737-27859', '1607866676-6139', '1607871268-22729', '1607879324-48837', '1607871089-21903', '1607872964-28651', '1607867789-10190', '1607871332-23067', '1607875976-38944', '1607874247-33419', '1607866343-4885', '1607876351-40024', '1607879345-48915', '1607876014-39034', '1607871095-21950', '1607873722-31526', '1607868152-11501', '1607875718-38141', '1607878980-47707', '1607871113-22011', '1607874907-35641', '1607877878-44384', '1607874642-34757', '1607867957-10814', '1607876504-40455', '1607873551-30901', '1607874696-34931', '1607879465-49347', '1607876572-40679', '1607871793-24612', '1607876559-40639', '1607874773-35196', '1607866387-5071', '1607871381-23270', '1607877233-42508', '1607871220-22478', '1607874393-33920', '1607878869-47391', '1607866809-6649', '1607878996-47754', '1607867176-8079', '1607877772-44059', '1607869466-15821', '1607871268-22744', '1607867169-8065', '1607869652-16520', '1607871352-23152', '1607871342-23121', '1607879083-48046', '1607878712-46960', '1607869227-14919', '1607874749-35125', '1607867044-7598', '1607871899-24976', '1607871992-25325', '1607875113-36330', '1607877233-42506', '1607870692-20397', '1607878334-45703', '1607873128-29290', '1607878482-46199', '1607869227-14925', '1607869584-16226', '1607870955-21405', '1607869388-15502', '1607872935-28570', '1607866851-6811', '1607873290-29975', '1607866857-6840', '1607878339-45735', '1607874914-35665', '1607866174-4235', '1607866732-6357', '1607871022-21657', '1607874370-33842', '1607866493-5470', '1607869480-15873', '1607871063-21811', '1607869172-14703', '1607879623-50001', '1607866676-6142', '1607876851-41518', '1607878465-46126', '1607871268-22749', '1607869395-15545', '1607872794-28065', '1607872429-26768', '1607873527-30848', '1607878773-47149', '1607878988-47731', '1607878938-47576', '1607876668-40985', '1607876395-40140', '1607870681-20342', '1607878858-47374', '1607869269-15060', '1607870416-19372', '1607872195-25992', '1607866546-5667', '1607871422-23414', '1607875700-38100', '1607878545-46425', '1607872058-25526', '1607876417-40223', '1607876685-41040', '1607869336-15320', '1607877206-42445', '1607873586-31034', '1607865863-3088', '1607877652-43722', '1607866586-5805', '1607870389-19257', '1607877254-42584', '1607875598-37821', '1607871755-24483', '1607874101-32902', '1607871319-22978', '1607871877-24916', '1607876716-41132', '1607875664-38000', '1607870871-21089', '1607877576-43507', '1607877239-42539', '1607871342-23110', '1607873661-31307', '1607878988-47735', '1607871857-24847', '1607867398-8829', '1607867752-10057', '1607869375-15459', '1607879123-48157', '1607877893-44450', '1607875148-36465', '1607878002-44758', '1607878401-45941', '1607870401-19317', '1607876676-41003', '1607873614-31150', '1607871319-22987', '1607872382-26594', '1607865257-153', '1607865924-3319', '1607878909-47506', '1607876453-40320', '1607871323-23007', '1607874723-35037', '1607873729-31554', '1607873890-32168', '1607865552-1628', '1607874072-32818', '1607871408-23372', '1607878996-47771', '1607867601-9539', '1607874642-34770', '1607865321-460', '1607879492-49446', '1607868389-12397', '1607874241-33379', '1607868363-12294', '1607873655-31281', '1607879623-50023', '1607868376-12343', '1607871130-22057', '1607869432-15682', '1607874614-34671', '1607877412-43060', '1607868138-11454', '1607871254-22651', '1607879012-47802', '1607877198-42420', '1607876369-40072', '1607871352-23158', '1607872308-26336', '1607869466-15824', '1607868346-12202', '1607867070-7690', '1607868752-13301', '1607870502-19664', '1607871332-23059', '1607873036-28914', '1607869329-15276', '1607877239-42534', '1607873641-31241', '1607865714-2468', '1607870202-18570', '1607868880-13755', '1607871459-23547', '1607871342-23104', '1607874093-32882', '1607866682-6158', '1607869239-14951', '1607869569-16196', '1607869057-14381', '1607876659-40963', '1607869122-14602', '1607873905-32209', '1607869277-15092', '1607874649-34798', '1607872927-28530', '1607874570-34550', '1607878721-46984', '1607871030-21688', '1607871250-22634', '1607868525-12765', '1607868028-11100', '1607871429-23430', '1607879151-48268', '1607879012-47820', '1607865924-3321', '1607868138-11455', '1607867239-8284', '1607872737-27874', '1607869356-15387', '1607878750-47060', '1607874951-35799', '1607867276-8415', '1607867007-7460', '1607871357-23184', '1607876172-39500', '1607874101-32912', '1607871259-22684', '1607873890-32159', '1607878885-47448', '1607871215-22453', '1607868677-13036', '1607868080-11266', '1607877935-44570', '1607869527-16048', '1607869773-16976', '1607869947-17623', '1607865896-3220', '1607875489-37477', '1607868820-13490', '1607874767-35163', '1607870994-21564', '1607865392-834', '1607879107-48116', '1607873081-29099', '1607869767-16963', '1607878858-47363', '1607878938-47597', '1607867558-9380', '1607866862-6872', '1607876805-41376', '1607866180-4257', '1607869214-14851', '1607869269-15065', '1607878530-46353', '1607867803-10242', '1607872375-26551', '1607869940-17580', '1607873057-28994', '1607874696-34943', '1607870039-17974', '1607869269-15071', '1607871374-23235'}\n",
      "-------------------------------------\n",
      "Term in query =  mahesh\n",
      "\n",
      "set()\n",
      "df =  328\n",
      "idf =  2.1828789590784754\n",
      "{}\n",
      "\n",
      "\n",
      "\n",
      "============================================\n",
      "\n",
      "doc ID =  1607877472-43249\n",
      "Keywords:\n",
      "\n",
      "Mahesh Bhatt: Dil Jaise Dhadke…Dhadakne Do is not anti-God\n",
      "\n",
      "title score =  0\n",
      "mahesh -2.1828789590784754 1\n",
      "\n",
      "\n",
      "Mahesh Bhatt's show Dil Jaise Dhadke...Dhadakne Do airs Monday-Friday at 7 pm on Star Plus.  ... \n",
      "\n",
      "tf-idf score= 4.764960549987529\n",
      "\n",
      "\n",
      "============================================\n",
      "\n",
      "doc ID =  1607874509-34301\n",
      "Keywords:\n",
      "\n",
      "Tollywood Buzz: It’s a wrap for Maharshi, Varun Tej joins the sets of Valmiki\n",
      "\n",
      "title score =  0\n",
      "mahesh -2.1828789590784754 1\n",
      "\n",
      "\n",
      "The shooting of Mahesh Babu’s Maharshi wrapped up on Wednesday. The Vamshi Paidipally directorial will hit screens on May 9.  ... \n",
      "\n",
      "tf-idf score= 4.764960549987529\n",
      "\n",
      "\n",
      "============================================\n",
      "\n",
      "doc ID =  1607878817-47253\n",
      "Keywords:\n",
      "\n",
      "Sarkaru Vaari Paata motion poster: Mahesh Babu starrer promises ‘electrifying’ drama\n",
      "\n",
      "title score =  0\n",
      "mahesh -2.1828789590784754 1\n",
      "\n",
      "\n",
      "Sarkaru Vaari Paata motion poster was released on Mahesh Babu's birthday. SS Thaman will be composing music for the film.  ... \n",
      "\n",
      "tf-idf score= 4.764960549987529\n",
      "\n",
      "\n",
      "============================================\n",
      "\n",
      "doc ID =  1607875337-37077\n",
      "Keywords:\n",
      "\n",
      "Mahesh Babu plays Major Ajay Krishna in Sarileru Neekevvaru\n",
      "\n",
      "title score =  0\n",
      "mahesh -2.1828789590784754 1\n",
      "\n",
      "\n",
      "Mahesh Babu is playing the role of an army officer for the first time in Sarileru Neekevvaru.  ... \n",
      "\n",
      "tf-idf score= 4.764960549987529\n",
      "\n",
      "\n",
      "============================================\n",
      "\n",
      "doc ID =  1607869487-15883\n",
      "Keywords:\n",
      "\n",
      "Rajinikanth on Spyder: AR Murugadoss has handled the subject very well\n",
      "\n",
      "title score =  0\n",
      "mahesh -2.1828789590784754 2\n",
      "\n",
      "\n",
      "'Spyder' is a Tamil-Telugu bilingual spy thriller, which stars superstar Mahesh Babu in the role of an Intelligence Bureau officer. The project marks Murugadoss’s first-time collaboration with Mahesh Babu. In a tweet, trade analyst Ramesh Bala posted Rajinikanth's views on the film.  ... \n",
      "\n",
      "tf-idf score= 4.764960549987529\n",
      "\n",
      "\n",
      "============================================\n",
      "\n",
      "doc ID =  1607877343-42851\n",
      "Keywords:\n",
      "\n",
      "Republic Day 2020: SRK, Salman, Mohanlal, Kamal Haasan and others wish fans\n",
      "\n",
      "title score =  0\n",
      "mahesh -2.1828789590784754 1\n",
      "\n",
      "\n",
      "Shah Rukh Khan, Ayushmann Khurrana, Varun Dhawan, Mahesh Babu, Mohanlal and others wished their fans on Republic Day.  ... \n",
      "\n",
      "tf-idf score= 4.764960549987529\n",
      "\n",
      "\n",
      "============================================\n",
      "\n",
      "doc ID =  1607867151-7983\n",
      "Keywords:\n",
      "\n",
      "Spyder first look: Mahesh Babu film promises to be a thrilling AR Murugadoss adventure\n",
      "\n",
      "title score =  0\n",
      "mahesh -2.1828789590784754 1\n",
      "\n",
      "\n",
      "After a long wait, Mahesh Babu's look in his upcoming film Spyder was released and has left fans excited.  ... \n",
      "\n",
      "tf-idf score= 4.764960549987529\n",
      "\n",
      "\n",
      "============================================\n",
      "\n",
      "doc ID =  1607871338-23096\n",
      "Keywords:\n",
      "\n",
      "Karthik Subbaraj-Prabhudheva’s Mercury gets a solo release on April 20\n",
      "\n",
      "title score =  0\n",
      "mahesh -2.1828789590784754 1\n",
      "\n",
      "\n",
      "Karthik Subbaraj's Mercury will be the first film to release post the Kollywood strike and it will only have Mahesh Babu's Bharat Ane Nenu as competition at the box office.  ... \n",
      "\n",
      "tf-idf score= 4.764960549987529\n",
      "\n",
      "\n",
      "============================================\n",
      "\n",
      "doc ID =  1607874678-34893\n",
      "Keywords:\n",
      "\n",
      "Mahesh Babu film with director Anil Ravipudi to go on floors in June\n",
      "\n",
      "title score =  0\n",
      "mahesh -2.1828789590784754 1\n",
      "\n",
      "\n",
      "Mahesh Babu's next Maharishi is scheduled for a worldwide release on May 9. As a part of film promotions, the Bharat Ane Nenu actor recently interacted with media and he also teased about his upcoming projects with directors Anil Ravipudi and SS Rajamouli.  ... \n",
      "\n",
      "tf-idf score= 4.764960549987529\n",
      "\n",
      "\n",
      "============================================\n",
      "\n",
      "doc ID =  1607869432-15695\n",
      "Keywords:\n",
      "\n",
      "Spyder star Mahesh Babu confirms film with SS Rajamouli\n",
      "\n",
      "title score =  0\n",
      "mahesh -2.1828789590784754 2\n",
      "\n",
      "\n",
      "Tollywood star Mahesh Babu and director SS Rajamouli will soon join hands for an untitled project. After release of Spyder, Mahesh will next join the sets of director Koratala Siva's political thriller Bharat Ane Nenu, which is already on the floors.  ... \n",
      "\n",
      "tf-idf score= 4.764960549987529\n",
      "\n",
      "\n",
      "============================================\n"
     ]
    }
   ],
   "source": [
    "scores = {}\n",
    "title_score = {}\n",
    "N = len(documentRoot)\n",
    "wordsInDoc = {}\n",
    "\n",
    "factor = {}\n",
    "\n",
    "import math\n",
    "import bisect\n",
    "\n",
    "for query_term in tf_query:\n",
    "    \n",
    "    docs_having_query_term = collection.get_doc_list(query_term, 0)\n",
    "    print(docs_having_query_term)\n",
    "    df = len(docs_having_query_term)\n",
    "    idf = 0\n",
    "    \n",
    "    print('-------------------------------------')\n",
    "    print('Term in query = ', query_term)\n",
    "    print()\n",
    "    \n",
    "    if df == 0:\n",
    "        idf = 0\n",
    "    else:\n",
    "        idf = math.log10(N/df)\n",
    "        \n",
    "    docs_having_query_term_in_title = collection.get_title_list(query_term,0)\n",
    "    print(docs_having_query_term_in_title)\n",
    "    for docID in docs_having_query_term_in_title:\n",
    "        if docID in title_score:\n",
    "            title_score[docID] += idf\n",
    "        else:\n",
    "            title_score[docID] = idf\n",
    "        \n",
    "    print('df = ',df)\n",
    "    print('idf = ',idf)\n",
    "    \n",
    "    tfidf_query = tf_query[query_term] * idf\n",
    "        \n",
    "    for docID in docs_having_query_term:\n",
    "        tf_doc = getReference[docID].count_words(query_term, 0)\n",
    "        tf_doc = 0.5 + 0.5*tf_doc/max_tf[docID]\n",
    "        tfidf_doc = (tf_doc)\n",
    "        \n",
    "        if docID not in scores:\n",
    "            scores[docID] = (tfidf_query * tfidf_doc)\n",
    "            wordsInDoc[docID] = []\n",
    "            bisect.insort(wordsInDoc[docID], [-tfidf_query * tfidf_doc, query_term])\n",
    "            factor[docID] = idf\n",
    "        else:\n",
    "            scores[docID] += (tfidf_query * tfidf_doc)\n",
    "            bisect.insort(wordsInDoc[docID], [-tfidf_query * tfidf_doc, query_term])\n",
    "            factor[docID] += idf\n",
    "print(title_score)\n",
    "for docID in scores:\n",
    "    if documentLength[docID] != 0:\n",
    "#         scores[docID] = scores[docID]/ math.sqrt(documentLength[docID])\n",
    "        scores[docID] *= factor[docID]\n",
    "        if docID in title_score:\n",
    "            scores[docID] *= 1 + title_score[docID]\n",
    "\n",
    "\n",
    "sorted_scores = sorted(scores.items(), key = lambda kv : kv[1] , reverse = True)\n",
    "\n",
    "maxshow = min(10, len(scores))\n",
    "\n",
    "print('\\n\\n')\n",
    "print('============================================')\n",
    "\n",
    "for i in range(maxshow):\n",
    "    # print(i)\n",
    "    print()\n",
    "    docID = sorted_scores[i][0]\n",
    "    print('doc ID = ', docID)\n",
    "    cnt = 0\n",
    "    print('Keywords:')\n",
    "    print()\n",
    "    print(subset[get_index[sorted_scores[i][0]]][2])\n",
    "    print()\n",
    "    if sorted_scores[i][0] not in title_score:\n",
    "        print('title score = ',0)\n",
    "    else:\n",
    "        print('title score = ',title_score[sorted_scores[i][0]])\n",
    "    for j in range(len(wordsInDoc[docID])):\n",
    "        print(wordsInDoc[docID][j][1], wordsInDoc[docID][j][0], end = ' ')\n",
    "        print(getReference[docID].count_words(wordsInDoc[docID][j][1], 0))\n",
    "    print()\n",
    "    print()\n",
    "    count = 0\n",
    "    found = 0\n",
    "    words_before=queue.Queue()\n",
    "    at_start = 1\n",
    "    display = \"\"\n",
    "    for word in subset[get_index[docID]][4].split():\n",
    "            \n",
    "        check_with=preprocessing.replace_dates(word)\n",
    "        check_with = check_with.lower()\n",
    "        if len(preprocessing.lemma_stop(check_with)) > 0:\n",
    "            check_with=preprocessing.lemma_stop(check_with)[0]\n",
    "        else:\n",
    "            check_with=word\n",
    "        \n",
    "        if check_with == wordsInDoc[docID][0][1]:\n",
    "            found=1\n",
    "            \n",
    "        if found == 1:\n",
    "            display = display + word + \" \"\n",
    "            count += 1\n",
    "            if count == 50:\n",
    "                break\n",
    "        if found == 0:\n",
    "            words_before.put(word)\n",
    "            if words_before.qsize()>20:\n",
    "                remove=words_before.get()\n",
    "                at_start=0\n",
    "                \n",
    "    if not at_start:\n",
    "        print('...', end = ' ')\n",
    "    while words_before.qsize() > 0:\n",
    "        print(words_before.get(), end = ' ')\n",
    "    print(display, end = ' ')\n",
    "    print('...', end = ' ')\n",
    "    print('\\n')\n",
    "    print('tf-idf score=', sorted_scores[i][1])\n",
    "    print('\\n')\n",
    "    print('============================================')"
   ]
  }
 ],
 "metadata": {
  "colab": {
   "collapsed_sections": [],
   "name": "retreive.ipynb",
   "provenance": []
  },
  "kernelspec": {
   "display_name": "Python 3",
   "language": "python",
   "name": "python3"
  },
  "language_info": {
   "codemirror_mode": {
    "name": "ipython",
    "version": 3
   },
   "file_extension": ".py",
   "mimetype": "text/x-python",
   "name": "python",
   "nbconvert_exporter": "python",
   "pygments_lexer": "ipython3",
   "version": "3.8.1"
  }
 },
 "nbformat": 4,
 "nbformat_minor": 1
}
